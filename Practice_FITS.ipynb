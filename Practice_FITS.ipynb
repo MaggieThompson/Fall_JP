{
 "metadata": {
  "name": "",
  "signature": "sha256:cca8229c9f907f3e62a8447bf39ac627446908c4e0bae38bbc392f6bad1ffc39"
 },
 "nbformat": 3,
 "nbformat_minor": 0,
 "worksheets": [
  {
   "cells": [
    {
     "cell_type": "code",
     "collapsed": false,
     "input": [
      "%pylab inline\n",
      "import numpy as np\n",
      "import pandas as pd\n",
      "import matplotlib.pyplot as plt\n",
      "import astropy as astr\n",
      "from matplotlib import rc\n",
      "\n",
      "rc('font', **{'family':'serif','serif':['Times','Palatino']})\n",
      "rc('text', usetex=True)\n",
      "\n",
      "#Goal: open FITS files \n",
      "\n",
      "from astropy.utils.data import download_file\n",
      "from astropy.io import fits\n",
      "\n",
      "hdu_list_284=fits.open('KOI_284.fits')\n",
      "hdu_list_2704=fits.open('KOI_2704.fits')\n",
      "\n",
      "print hdu_list_284.info()\n",
      "print hdu_list_2704.info()\n"
     ],
     "language": "python",
     "metadata": {},
     "outputs": [
      {
       "output_type": "stream",
       "stream": "stdout",
       "text": [
        "Populating the interactive namespace from numpy and matplotlib\n",
        "Filename: KOI_284.fits\n",
        "No.    Name         Type      Cards   Dimensions   Format\n",
        "0    PRIMARY     PrimaryHDU     112   (301, 301)   float64   "
       ]
      },
      {
       "output_type": "stream",
       "stream": "stdout",
       "text": [
        "\n"
       ]
      },
      {
       "output_type": "stream",
       "stream": "stdout",
       "text": [
        "None\n",
        "Filename: KOI_2704.fits\n",
        "No.    Name         Type      Cards   Dimensions   Format\n",
        "0    PRIMARY     PrimaryHDU     110   (301, 301)   float64   \n"
       ]
      },
      {
       "output_type": "stream",
       "stream": "stdout",
       "text": [
        "None\n"
       ]
      }
     ],
     "prompt_number": 1
    },
    {
     "cell_type": "code",
     "collapsed": false,
     "input": [
      "image_data_284=hdu_list_284[0].data\n",
      "image_data_2704=hdu_list_2704[0].data\n",
      "\n",
      "print image_data_284\n",
      "print image_data_2704\n",
      "\n",
      "plt.imshow(image_data_284, cmap='gray_r')\n",
      "plt.colorbar()\n",
      "plt.xlim(100,200)\n",
      "plt.ylim(200,100)\n",
      "plt.title('KOI 284')\n",
      "plt.show()\n",
      "\n",
      "plt.imshow(image_data_2704, cmap='gray_r')\n",
      "plt.colorbar()\n",
      "plt.xlim(100,200)\n",
      "plt.ylim(200, 100)\n",
      "plt.title('KOI 2704')\n",
      "plt.show()\n",
      "\n",
      "#We have made a color map for each of our KOIs\n",
      "#KOI 284 looks much more like a binary than KOI2704\n",
      "\n",
      "\n"
     ],
     "language": "python",
     "metadata": {},
     "outputs": [
      {
       "output_type": "stream",
       "stream": "stdout",
       "text": [
        "[[ 425.67828758  415.07168573  404.46508388 ...,  416.48589931\n",
        "   401.63665672  403.0508703 ]\n",
        " [ 422.14275363  419.31432647  402.34376351 ...,  409.41483141  403.0508703\n",
        "   386.78741413]\n",
        " [ 410.82904499  429.21382153  417.1930061  ...,  410.1219382   426.38539437\n",
        "   398.80822956]\n",
        " ..., \n",
        " [ 403.75797709  407.29351104  410.1219382  ...,  398.10112277\n",
        "   408.70772462  403.0508703 ]\n",
        " [ 420.72854005  408.00061783  415.07168573 ...,  406.58640425\n",
        "   412.24325857  415.77879252]\n",
        " [ 394.56558882  412.24325857  407.29351104 ...,  410.1219382   408.70772462\n",
        "   406.58640425]]\n",
        "[[ 602.45498508  629.3250431   627.91082952 ...,  614.47580051\n",
        "   632.15347026  622.96108199]\n",
        " [ 631.44636347  636.396111    618.71844125 ...,  620.13265483\n",
        "   628.61793631  622.2539752 ]\n",
        " [ 620.83976162  613.76869372  633.56768384 ...,  630.03214989\n",
        "   626.49661594  630.73925668]\n",
        " ..., \n",
        " [ 625.78950915  610.23315977  610.94026656 ...,  639.93164495\n",
        "   627.91082952  629.3250431 ]\n",
        " [ 620.13265483  618.01133446  615.89001409 ...,  622.96108199\n",
        "   622.96108199  609.52605298]\n",
        " [ 635.68900421  630.03214989  616.59712088 ...,  616.59712088\n",
        "   625.08240236  615.1829073 ]]\n"
       ]
      },
      {
       "metadata": {},
       "output_type": "display_data",
       "png": "[encoded data removed]",
       "text": [
        "<matplotlib.figure.Figure at 0x109c32790>"
       ]
      },
      {
       "metadata": {},
       "output_type": "display_data",
       "png": "[encoded data removed]",
       "text": [
        "<matplotlib.figure.Figure at 0x116938990>"
       ]
      }
     ],
     "prompt_number": 29
    },
    {
     "cell_type": "code",
     "collapsed": false,
     "input": [
      "#Now let's gather some basic statistical information about these images\n",
      "#For KOI284:\n",
      "print('Min 284:', np.min(image_data_284))\n",
      "print('Max 284:', np.max(image_data_284))\n",
      "print('Mean 284:', np.mean(image_data_284))\n",
      "print ('Standard Deviation 284:', np.std(image_data_284))\n",
      "\n",
      "print(' ')\n",
      "#For KOI2704:\n",
      "print('Min 2704:', np.min(image_data_2704))\n",
      "print('Max 2704:', np.max(image_data_2704))\n",
      "print('Mean 2704:', np.mean(image_data_2704))\n",
      "print ('Standard Deviation 2704:', np.std(image_data_2704))\n",
      "\n"
     ],
     "language": "python",
     "metadata": {},
     "outputs": [
      {
       "output_type": "stream",
       "stream": "stdout",
       "text": [
        "('Min 284:', 366.28131722000001)\n",
        "('Max 284:', 50949.165539870002)\n",
        "('Mean 284:', 430.51433733935636)\n",
        "('Standard Deviation 284:', 697.99173802692303)\n",
        " \n",
        "('Min 2704:', 583.36310174999994)\n",
        "('Max 2704:', 8910.9597675799996)\n",
        "('Mean 2704:', 626.75515973792153)\n",
        "('Standard Deviation 2704:', 100.51079602666205)\n"
       ]
      }
     ],
     "prompt_number": 30
    },
    {
     "cell_type": "code",
     "collapsed": false,
     "input": [
      "#Let's plot a histogram of the fits images\n",
      "\n",
      "#First, we have to cast the data from the two KOIs from 2D arrays to 1D arrays\n",
      "\n",
      "print image_data_284.flat\n",
      "print image_data_2704.flat\n",
      "\n",
      "Number_BINS_284=3000\n",
      "\n",
      "histogram_284=plt.hist(image_data_284.flat, Number_BINS_284)\n",
      "plt.xlim(200,600)\n",
      "plt.title('Histogram of KOI284 FITS Image')\n",
      "plt.show()\n",
      "\n",
      "Number_BINS_2704=5000\n",
      "\n",
      "histogram_2704=plt.hist(image_data_2704.flat, Number_BINS_2704)\n",
      "plt.xlim(550,700)\n",
      "plt.title('Histogram of KOI2704 FITS Image')\n",
      "plt.show()"
     ],
     "language": "python",
     "metadata": {},
     "outputs": [
      {
       "output_type": "stream",
       "stream": "stdout",
       "text": [
        "<numpy.flatiter object at 0x10404ba00>\n",
        "<numpy.flatiter object at 0x10404ba00>\n"
       ]
      },
      {
       "metadata": {},
       "output_type": "display_data",
       "png": "[encoded data removed]",
       "text": [
        "<matplotlib.figure.Figure at 0x11212a0d0>"
       ]
      },
      {
       "metadata": {},
       "output_type": "display_data",
       "png": "[encoded data removed]",
       "text": [
        "<matplotlib.figure.Figure at 0x109d59250>"
       ]
      }
     ],
     "prompt_number": 31
    },
    {
     "cell_type": "code",
     "collapsed": false,
     "input": [],
     "language": "python",
     "metadata": {},
     "outputs": []
    }
   ],
   "metadata": {}
  }
 ]
}