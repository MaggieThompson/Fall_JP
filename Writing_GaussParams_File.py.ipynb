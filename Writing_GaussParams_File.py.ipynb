{
 "metadata": {
  "name": "",
  "signature": "sha256:706312e527e5d90ea4642f9571b1fe3c3948c961332f08890e17d60444935c9e"
 },
 "nbformat": 3,
 "nbformat_minor": 0,
 "worksheets": [
  {
   "cells": [
    {
     "cell_type": "code",
     "collapsed": false,
     "input": [
      "import numpy as np\n",
      "import pandas as pd\n",
      "import matplotlib.pyplot as plt\n",
      "import astropy as astr\n",
      "from matplotlib import rc\n",
      "import gaussfitter as gauss\n",
      "rc('font', **{'family':'serif','serif':['Times','Palatino']})\n",
      "rc('text', usetex=True)\n",
      "from astropy.utils.data import download_file\n",
      "from astropy.io import fits\n",
      "from astropy.wcs import WCS\n",
      "import sys\n",
      "import re\n",
      "\n",
      "def write_psf_params(image_file, sources_file):\n",
      "    \n",
      "    #Part 1: download .fits file:\n",
      "    hdu_list_image=fits.open(image_file)\n",
      "    image_data=hdu_list_image[0].data\n",
      "    \n",
      "    #Part 2: download .txt file, convert to pixel coordinates:\n",
      "    nearby_sources=np.genfromtxt(sources_file, skip_header=23, usecols=(0,1))\n",
      "    sources_data=pd.DataFrame(nearby_sources, columns=('RA', 'DEC'))\n",
      "    w=WCS(image_file)\n",
      "    px,py=w.all_world2pix(sources_data['RA'],sources_data['DEC'],1,tolerance=200)\n",
      "    print px,py\n",
      "    #Part 3: creating box around each source in the sources file:\n",
      "    def source_box(data,x,y,boxsize):\n",
      "        box=data[(x-boxsize):(boxsize+x),(y-boxsize):(boxsize+y)]\n",
      "        return box\n",
      "    m=re.search('(.*)\\.fits', image_file)\n",
      "    output_file=open(m.group(1)+'.psf', 'w')\n",
      "    for x,y in zip(px,py):\n",
      "        IMAGE_DATA=source_box(image_data,x,y,20.0)\n",
      "    #Part 4 & 5: find the Gaussian parameters and write them to a file:\n",
      "        mpfit = gauss.gaussfit(IMAGE_DATA, returnmp=True)\n",
      "        line=''\n",
      "        print mpfit.params\n",
      "        for param in mpfit.params:\n",
      "            line += '{} '.format(param)\n",
      "        line += '{}'.format(mpfit.errmsg)\n",
      "        line += '\\n'\n",
      "        output_file.write(line)\n",
      "        #this goes into the writing of the file mpfit.params\n",
      "        #within the loop file.write(params)\n",
      "    output_file.close()\n",
      "    \n",
      "write_psf_params('KOI_284.fits', 'KOI284_Nearby.txt')"
     ],
     "language": "python",
     "metadata": {},
     "outputs": [
      {
       "output_type": "stream",
       "stream": "stdout",
       "text": [
        "[ 151.91491376  152.08105908  103.46605973   74.7727461   242.24325329\n",
        "  169.40294204  213.79375127   97.44205336  197.98812849   42.15368875\n",
        "   27.28557061  289.08874104  288.43245015   37.824541    184.27782265\n",
        "    3.66201903] [ 150.86652458  122.23008367  201.88856449  152.29191063  150.10931847\n",
        "  244.84725154  224.22834422   63.76212832   53.47833218  193.46016216\n",
        "  141.55933462  157.03448992  119.63146157  240.17774948    6.54757301\n",
        "  161.38005482]\n",
        "[  4.79293233e+02   5.00631359e+04   2.10454113e+01   1.88163885e+01\n",
        "   1.62514472e+00   3.24769644e+00   0.00000000e+00]"
       ]
      },
      {
       "output_type": "stream",
       "stream": "stdout",
       "text": [
        "\n",
        "[  4.12982606e+02   1.72803048e+09   1.70978738e+02   2.90869451e+01\n",
        "   5.29052497e+00   2.33241028e+01   4.98326616e+00]"
       ]
      },
      {
       "output_type": "stream",
       "stream": "stdout",
       "text": [
        "\n",
        "[ 410.40417919   17.13958155   34.56024502    0.74732979    0.41963931\n",
        "    5.09690556  174.10903123]"
       ]
      },
      {
       "output_type": "stream",
       "stream": "stdout",
       "text": [
        "\n",
        "[ 410.2480456     4.01196461    8.1444036    21.55376549   14.1005595\n",
        "    2.30562248   23.03542081]"
       ]
      },
      {
       "output_type": "stream",
       "stream": "stdout",
       "text": [
        "\n",
        "[ 409.94048056   78.53897795   38.63794613   21.63629906    1.4955069\n",
        "    1.84676853    5.50400053]"
       ]
      },
      {
       "output_type": "stream",
       "stream": "stdout",
       "text": [
        "\n",
        "[ 24629.6193694  -24257.49370842   2063.4170716     -61.24783582\n",
        "  37849.83888754    619.78415119     87.59239528]"
       ]
      },
      {
       "output_type": "stream",
       "stream": "stdout",
       "text": [
        "\n",
        "[ 410.66311652   89.70245181    8.89584306   30.22448026    1.50170313\n",
        "    2.00627918    0.        ]"
       ]
      },
      {
       "output_type": "stream",
       "stream": "stdout",
       "text": [
        "\n",
        "[ 410.10784695   13.23676347   25.79894989   -5.37444982   18.29698292\n",
        "    0.61201063   28.77372147]"
       ]
      },
      {
       "output_type": "stream",
       "stream": "stdout",
       "text": [
        "\n",
        "[ 410.7112815   132.41482157    8.21027108   15.42488909    1.31133967\n",
        "    1.8448457     7.28659227]"
       ]
      },
      {
       "output_type": "stream",
       "stream": "stdout",
       "text": [
        "\n",
        "[ 410.9326595    40.1550235    24.19217352   30.38066206    1.72294439\n",
        "    1.28919642   30.74953302]"
       ]
      },
      {
       "output_type": "stream",
       "stream": "stdout",
       "text": [
        "\n",
        "[  4.10883454e+02   7.44271351e+01   1.04438993e+01   3.15132030e+01\n",
        "   1.37101229e-01   4.60577140e+00   1.53685036e+02]"
       ]
      },
      {
       "output_type": "stream",
       "stream": "stdout",
       "text": [
        "\n",
        "[ 409.0775902    13.60795001   14.04090053   30.07835709   10.49392911\n",
        "    0.49211538    7.1661018 ]"
       ]
      },
      {
       "output_type": "stream",
       "stream": "stdout",
       "text": [
        "\n",
        "[  4.09304338e+02   2.14506260e+01   2.27741210e+01   1.28003731e+01\n",
        "   2.24481268e-01   3.95602887e+00   1.27015986e+02]"
       ]
      },
      {
       "output_type": "stream",
       "stream": "stdout",
       "text": [
        "\n",
        "[  4.11524094e+02   1.99288348e+06   3.30806309e+02  -5.13236033e+02\n",
        "   1.23404811e+02   2.87238086e-01   2.88923840e+01]"
       ]
      },
      {
       "output_type": "stream",
       "stream": "stdout",
       "text": [
        "\n"
       ]
      },
      {
       "ename": "ValueError",
       "evalue": "attempt to get argmax of an empty sequence",
       "output_type": "pyerr",
       "traceback": [
        "\u001b[0;31m---------------------------------------------------------------------------\u001b[0m\n\u001b[0;31mValueError\u001b[0m                                Traceback (most recent call last)",
        "\u001b[0;32m<ipython-input-24-0995539f0c9f>\u001b[0m in \u001b[0;36m<module>\u001b[0;34m()\u001b[0m\n\u001b[1;32m     46\u001b[0m     \u001b[0moutput_file\u001b[0m\u001b[0;34m.\u001b[0m\u001b[0mclose\u001b[0m\u001b[0;34m(\u001b[0m\u001b[0;34m)\u001b[0m\u001b[0;34m\u001b[0m\u001b[0m\n\u001b[1;32m     47\u001b[0m \u001b[0;34m\u001b[0m\u001b[0m\n\u001b[0;32m---> 48\u001b[0;31m \u001b[0mwrite_psf_params\u001b[0m\u001b[0;34m(\u001b[0m\u001b[0;34m'KOI_284.fits'\u001b[0m\u001b[0;34m,\u001b[0m \u001b[0;34m'KOI284_Nearby.txt'\u001b[0m\u001b[0;34m)\u001b[0m\u001b[0;34m\u001b[0m\u001b[0m\n\u001b[0m",
        "\u001b[0;32m<ipython-input-24-0995539f0c9f>\u001b[0m in \u001b[0;36mwrite_psf_params\u001b[0;34m(image_file, sources_file)\u001b[0m\n\u001b[1;32m     34\u001b[0m         \u001b[0mIMAGE_DATA\u001b[0m\u001b[0;34m=\u001b[0m\u001b[0msource_box\u001b[0m\u001b[0;34m(\u001b[0m\u001b[0mimage_data\u001b[0m\u001b[0;34m,\u001b[0m\u001b[0mx\u001b[0m\u001b[0;34m,\u001b[0m\u001b[0my\u001b[0m\u001b[0;34m,\u001b[0m\u001b[0;36m20.0\u001b[0m\u001b[0;34m)\u001b[0m\u001b[0;34m\u001b[0m\u001b[0m\n\u001b[1;32m     35\u001b[0m     \u001b[0;31m#Part 4 & 5: find the Gaussian parameters and write them to a file:\u001b[0m\u001b[0;34m\u001b[0m\u001b[0;34m\u001b[0m\u001b[0m\n\u001b[0;32m---> 36\u001b[0;31m         \u001b[0mmpfit\u001b[0m \u001b[0;34m=\u001b[0m \u001b[0mgauss\u001b[0m\u001b[0;34m.\u001b[0m\u001b[0mgaussfit\u001b[0m\u001b[0;34m(\u001b[0m\u001b[0mIMAGE_DATA\u001b[0m\u001b[0;34m,\u001b[0m \u001b[0mreturnmp\u001b[0m\u001b[0;34m=\u001b[0m\u001b[0mTrue\u001b[0m\u001b[0;34m)\u001b[0m\u001b[0;34m\u001b[0m\u001b[0m\n\u001b[0m\u001b[1;32m     37\u001b[0m         \u001b[0mline\u001b[0m\u001b[0;34m=\u001b[0m\u001b[0;34m''\u001b[0m\u001b[0;34m\u001b[0m\u001b[0m\n\u001b[1;32m     38\u001b[0m         \u001b[0;32mprint\u001b[0m \u001b[0mmpfit\u001b[0m\u001b[0;34m.\u001b[0m\u001b[0mparams\u001b[0m\u001b[0;34m\u001b[0m\u001b[0m\n",
        "\u001b[0;32m/Users/maggiethompson/anaconda/lib/python2.7/site-packages/gaussfitter/gaussfitter.pyc\u001b[0m in \u001b[0;36mgaussfit\u001b[0;34m(data, err, params, autoderiv, return_error, circle, fixed, limitedmin, limitedmax, usemoment, minpars, maxpars, rotate, vheight, quiet, returnmp, returnfitimage, **kwargs)\u001b[0m\n\u001b[1;32m    218\u001b[0m         \u001b[0mparams\u001b[0m\u001b[0;34m[\u001b[0m\u001b[0musemoment\u001b[0m\u001b[0;34m]\u001b[0m \u001b[0;34m=\u001b[0m \u001b[0mmoment\u001b[0m\u001b[0;34m[\u001b[0m\u001b[0musemoment\u001b[0m\u001b[0;34m]\u001b[0m\u001b[0;34m\u001b[0m\u001b[0m\n\u001b[1;32m    219\u001b[0m     \u001b[0;32melif\u001b[0m \u001b[0mparams\u001b[0m \u001b[0;34m==\u001b[0m \u001b[0;34m[\u001b[0m\u001b[0;34m]\u001b[0m \u001b[0;32mor\u001b[0m \u001b[0mlen\u001b[0m\u001b[0;34m(\u001b[0m\u001b[0mparams\u001b[0m\u001b[0;34m)\u001b[0m \u001b[0;34m==\u001b[0m \u001b[0;36m0\u001b[0m\u001b[0;34m:\u001b[0m\u001b[0;34m\u001b[0m\u001b[0m\n\u001b[0;32m--> 220\u001b[0;31m         \u001b[0mparams\u001b[0m \u001b[0;34m=\u001b[0m \u001b[0;34m(\u001b[0m\u001b[0mmoments\u001b[0m\u001b[0;34m(\u001b[0m\u001b[0mdata\u001b[0m\u001b[0;34m,\u001b[0m \u001b[0mcircle\u001b[0m\u001b[0;34m,\u001b[0m \u001b[0mrotate\u001b[0m\u001b[0;34m,\u001b[0m \u001b[0mvheight\u001b[0m\u001b[0;34m,\u001b[0m \u001b[0;34m**\u001b[0m\u001b[0mkwargs\u001b[0m\u001b[0;34m)\u001b[0m\u001b[0;34m)\u001b[0m\u001b[0;34m\u001b[0m\u001b[0m\n\u001b[0m\u001b[1;32m    221\u001b[0m     \u001b[0;32mif\u001b[0m \u001b[0;32mnot\u001b[0m \u001b[0mvheight\u001b[0m\u001b[0;34m:\u001b[0m\u001b[0;34m\u001b[0m\u001b[0m\n\u001b[1;32m    222\u001b[0m         \u001b[0;31m# If vheight is not set, we set it for sub-function calls but fix the\u001b[0m\u001b[0;34m\u001b[0m\u001b[0;34m\u001b[0m\u001b[0m\n",
        "\u001b[0;32m/Users/maggiethompson/anaconda/lib/python2.7/site-packages/gaussfitter/gaussfitter.pyc\u001b[0m in \u001b[0;36mmoments\u001b[0;34m(data, circle, rotate, vheight, estimator, angle_guess, **kwargs)\u001b[0m\n\u001b[1;32m     45\u001b[0m     \u001b[0mY\u001b[0m\u001b[0;34m,\u001b[0m \u001b[0mX\u001b[0m \u001b[0;34m=\u001b[0m \u001b[0mnp\u001b[0m\u001b[0;34m.\u001b[0m\u001b[0mindices\u001b[0m\u001b[0;34m(\u001b[0m\u001b[0mdata\u001b[0m\u001b[0;34m.\u001b[0m\u001b[0mshape\u001b[0m\u001b[0;34m)\u001b[0m  \u001b[0;31m# python convention: reverse x,y np.indices\u001b[0m\u001b[0;34m\u001b[0m\u001b[0m\n\u001b[1;32m     46\u001b[0m     \u001b[0my\u001b[0m \u001b[0;34m=\u001b[0m \u001b[0mnp\u001b[0m\u001b[0;34m.\u001b[0m\u001b[0margmax\u001b[0m\u001b[0;34m(\u001b[0m\u001b[0;34m(\u001b[0m\u001b[0mX\u001b[0m\u001b[0;34m*\u001b[0m\u001b[0mnp\u001b[0m\u001b[0;34m.\u001b[0m\u001b[0mabs\u001b[0m\u001b[0;34m(\u001b[0m\u001b[0mdata\u001b[0m\u001b[0;34m)\u001b[0m\u001b[0;34m)\u001b[0m\u001b[0;34m.\u001b[0m\u001b[0msum\u001b[0m\u001b[0;34m(\u001b[0m\u001b[0maxis\u001b[0m\u001b[0;34m=\u001b[0m\u001b[0;36m1\u001b[0m\u001b[0;34m)\u001b[0m\u001b[0;34m/\u001b[0m\u001b[0mtotal\u001b[0m\u001b[0;34m)\u001b[0m\u001b[0;34m\u001b[0m\u001b[0m\n\u001b[0;32m---> 47\u001b[0;31m     \u001b[0mx\u001b[0m \u001b[0;34m=\u001b[0m \u001b[0mnp\u001b[0m\u001b[0;34m.\u001b[0m\u001b[0margmax\u001b[0m\u001b[0;34m(\u001b[0m\u001b[0;34m(\u001b[0m\u001b[0mY\u001b[0m\u001b[0;34m*\u001b[0m\u001b[0mnp\u001b[0m\u001b[0;34m.\u001b[0m\u001b[0mabs\u001b[0m\u001b[0;34m(\u001b[0m\u001b[0mdata\u001b[0m\u001b[0;34m)\u001b[0m\u001b[0;34m)\u001b[0m\u001b[0;34m.\u001b[0m\u001b[0msum\u001b[0m\u001b[0;34m(\u001b[0m\u001b[0maxis\u001b[0m\u001b[0;34m=\u001b[0m\u001b[0;36m0\u001b[0m\u001b[0;34m)\u001b[0m\u001b[0;34m/\u001b[0m\u001b[0mtotal\u001b[0m\u001b[0;34m)\u001b[0m\u001b[0;34m\u001b[0m\u001b[0m\n\u001b[0m\u001b[1;32m     48\u001b[0m     \u001b[0mcol\u001b[0m \u001b[0;34m=\u001b[0m \u001b[0mdata\u001b[0m\u001b[0;34m[\u001b[0m\u001b[0mint\u001b[0m\u001b[0;34m(\u001b[0m\u001b[0my\u001b[0m\u001b[0;34m)\u001b[0m\u001b[0;34m,\u001b[0m \u001b[0;34m:\u001b[0m\u001b[0;34m]\u001b[0m\u001b[0;34m\u001b[0m\u001b[0m\n\u001b[1;32m     49\u001b[0m     \u001b[0;31m# FIRST moment, not second!\u001b[0m\u001b[0;34m\u001b[0m\u001b[0;34m\u001b[0m\u001b[0m\n",
        "\u001b[0;32m/Users/maggiethompson/anaconda/lib/python2.7/site-packages/numpy/core/fromnumeric.pyc\u001b[0m in \u001b[0;36margmax\u001b[0;34m(a, axis)\u001b[0m\n\u001b[1;32m    930\u001b[0m     \u001b[0;32mexcept\u001b[0m \u001b[0mAttributeError\u001b[0m\u001b[0;34m:\u001b[0m\u001b[0;34m\u001b[0m\u001b[0m\n\u001b[1;32m    931\u001b[0m         \u001b[0;32mreturn\u001b[0m \u001b[0m_wrapit\u001b[0m\u001b[0;34m(\u001b[0m\u001b[0ma\u001b[0m\u001b[0;34m,\u001b[0m \u001b[0;34m'argmax'\u001b[0m\u001b[0;34m,\u001b[0m \u001b[0maxis\u001b[0m\u001b[0;34m)\u001b[0m\u001b[0;34m\u001b[0m\u001b[0m\n\u001b[0;32m--> 932\u001b[0;31m     \u001b[0;32mreturn\u001b[0m \u001b[0margmax\u001b[0m\u001b[0;34m(\u001b[0m\u001b[0maxis\u001b[0m\u001b[0;34m)\u001b[0m\u001b[0;34m\u001b[0m\u001b[0m\n\u001b[0m\u001b[1;32m    933\u001b[0m \u001b[0;34m\u001b[0m\u001b[0m\n\u001b[1;32m    934\u001b[0m \u001b[0;34m\u001b[0m\u001b[0m\n",
        "\u001b[0;32m/Users/maggiethompson/anaconda/lib/python2.7/site-packages/numpy/ma/core.pyc\u001b[0m in \u001b[0;36margmax\u001b[0;34m(self, axis, fill_value, out)\u001b[0m\n\u001b[1;32m   4995\u001b[0m             \u001b[0mfill_value\u001b[0m \u001b[0;34m=\u001b[0m \u001b[0mmaximum_fill_value\u001b[0m\u001b[0;34m(\u001b[0m\u001b[0mself\u001b[0m\u001b[0;34m.\u001b[0m\u001b[0m_data\u001b[0m\u001b[0;34m)\u001b[0m\u001b[0;34m\u001b[0m\u001b[0m\n\u001b[1;32m   4996\u001b[0m         \u001b[0md\u001b[0m \u001b[0;34m=\u001b[0m \u001b[0mself\u001b[0m\u001b[0;34m.\u001b[0m\u001b[0mfilled\u001b[0m\u001b[0;34m(\u001b[0m\u001b[0mfill_value\u001b[0m\u001b[0;34m)\u001b[0m\u001b[0;34m.\u001b[0m\u001b[0mview\u001b[0m\u001b[0;34m(\u001b[0m\u001b[0mndarray\u001b[0m\u001b[0;34m)\u001b[0m\u001b[0;34m\u001b[0m\u001b[0m\n\u001b[0;32m-> 4997\u001b[0;31m         \u001b[0;32mreturn\u001b[0m \u001b[0md\u001b[0m\u001b[0;34m.\u001b[0m\u001b[0margmax\u001b[0m\u001b[0;34m(\u001b[0m\u001b[0maxis\u001b[0m\u001b[0;34m,\u001b[0m \u001b[0mout\u001b[0m\u001b[0;34m=\u001b[0m\u001b[0mout\u001b[0m\u001b[0;34m)\u001b[0m\u001b[0;34m\u001b[0m\u001b[0m\n\u001b[0m\u001b[1;32m   4998\u001b[0m \u001b[0;34m\u001b[0m\u001b[0m\n\u001b[1;32m   4999\u001b[0m \u001b[0;34m\u001b[0m\u001b[0m\n",
        "\u001b[0;31mValueError\u001b[0m: attempt to get argmax of an empty sequence"
       ]
      }
     ],
     "prompt_number": 24
    },
    {
     "cell_type": "code",
     "collapsed": false,
     "input": [],
     "language": "python",
     "metadata": {},
     "outputs": []
    },
    {
     "cell_type": "code",
     "collapsed": false,
     "input": [],
     "language": "python",
     "metadata": {},
     "outputs": []
    },
    {
     "cell_type": "code",
     "collapsed": false,
     "input": [],
     "language": "python",
     "metadata": {},
     "outputs": []
    }
   ],
   "metadata": {}
  }
 ]
}