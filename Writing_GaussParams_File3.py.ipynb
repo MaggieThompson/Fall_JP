{
 "metadata": {
  "name": "",
  "signature": "sha256:d1e113aec08dda05340374a52376fe2afddbdb2b5ac86543115a9c70bdf31c46"
 },
 "nbformat": 3,
 "nbformat_minor": 0,
 "worksheets": [
  {
   "cells": [
    {
     "cell_type": "code",
     "collapsed": false,
     "input": [
      "%pylab inline\n",
      "import numpy as np\n",
      "import pandas as pd\n",
      "import matplotlib.pyplot as plt\n",
      "import astropy as astr\n",
      "#from matplotlib import rc\n",
      "import gaussfitter as gauss\n",
      "#rc('font', **{'family':'serif','serif':['Times','Palatino']})\n",
      "#rc('text', usetex=True)\n",
      "from astropy.utils.data import download_file\n",
      "from astropy.io import fits\n",
      "from astropy.wcs import WCS\n",
      "import sys\n",
      "import re\n",
      "import os\n",
      "\n",
      "def source_box(data,x,y,boxsize):\n",
      "    if (x-boxsize)<0:\n",
      "        x_low=0\n",
      "    else:\n",
      "        x_low=x-boxsize\n",
      "    if (x+boxsize)>data.shape[0]:\n",
      "        x_high=data.shape[0]\n",
      "    else:\n",
      "        x_high=(x+boxsize)\n",
      "    if (y-boxsize)<0:\n",
      "        y_low=0\n",
      "    else:\n",
      "        y_low=(y-boxsize)\n",
      "    if (y+boxsize)>data.shape[1]:\n",
      "        y_high=data.shape[1]\n",
      "    else:\n",
      "        y_high=(y+boxsize)\n",
      "    return data[x_low:x_high, y_low:y_high]\n",
      "        \n",
      "\n",
      "def write_psf_params(image_file, sources_file):\n",
      "    \n",
      "    #Part 1: download .fits file:\n",
      "    hdu_list_image=fits.open(image_file)\n",
      "    image_data=hdu_list_image[0].data\n",
      "    \n",
      "    #Part 2: download .txt file, convert to pixel coordinates:\n",
      "    nearby_sources=np.genfromtxt(sources_file, skip_header=23, usecols=(0,1))\n",
      "    sources_data=pd.DataFrame(nearby_sources, columns=('RA', 'DEC'))\n",
      "    #print sources_data\n",
      "    w=WCS(image_file)\n",
      "    px,py=w.all_world2pix(sources_data['RA'],sources_data['DEC'],1, tolerance=200.0)\n",
      "    index=(np.arange(1,len(px)+1))\n",
      "    pixels=zip(px,py,index)\n",
      "    print pixels\n",
      "    #Part 3: creating box around each source in the sources file:\n",
      "    m=re.search('(.*)\\.fits', image_file)\n",
      "    \n",
      "    output_file=open(m.group(1)+'.psf', 'w')\n",
      "    os.mkdir(m.group(1))\n",
      "    for x,y,z in pixels:\n",
      "        IMAGE_DATA=source_box(image_data,x,y,20.0)\n",
      "        #print IMAGE_DATA\n",
      "    #Part 4 & 5: find the Gaussian parameters and write them to a file:\n",
      "        mpfit = gauss.gaussfit(IMAGE_DATA, returnmp=True)\n",
      "        line=''\n",
      "        #print mpfit.params\n",
      "        for param in mpfit.params:\n",
      "            line += '{} '.format(param)\n",
      "        line += '{}'.format(mpfit.errmsg)\n",
      "        line += '\\n'\n",
      "        output_file.write(line)\n",
      "        gaussianfit=gauss.twodgaussian(mpfit.params)\n",
      "        plt.figure()\n",
      "        plt.imshow(IMAGE_DATA, cmap='gray_r')\n",
      "        plt.colorbar()\n",
      "        plt.contour(gaussianfit(*np.indices(IMAGE_DATA.shape)))\n",
      "        #plt.show()\n",
      "        plt.savefig('{}/image{}.png'.format(m.group(1), z))\n",
      "        plt.clf()\n",
      "        #this goes into the writing of the file mpfit.params\n",
      "        #within the loop file.write(params)\n",
      "    #plt.figure()\n",
      "    #plt.imshow(np.log(image_data), cmap='gray_r')\n",
      "    #plt.colorbar()\n",
      "    #plt.plot(px,py,'rx', ms=10)\n",
      "    #plt.show()\n",
      "    output_file.close()\n",
      "    \n",
      "write_psf_params('KOI_284.fits', 'KOI284_Nearby.txt')\n",
      "\n",
      "#write_psf_params('KOI_2704.fits', 'KOI2704_Nearby2.txt')\n"
     ],
     "language": "python",
     "metadata": {},
     "outputs": [
      {
       "output_type": "stream",
       "stream": "stdout",
       "text": [
        "Populating the interactive namespace from numpy and matplotlib\n",
        "[(151.91491375881242, 150.86652458360072, 1), (152.08105908388961, 122.23008367148782, 2), (103.46605973346004, 201.88856448909314, 3), (74.77274610427412, 152.29191063309122, 4), (242.24325328855912, 150.109318468423, 5), (169.40294203825124, 244.8472515366368, 6), (213.79375126987679, 224.22834422279288, 7), (97.44205335661718, 63.762128322461876, 8), (197.98812849190472, 53.478332181582346, 9), (42.153688753453935, 193.46016215893883, 10), (27.285570611054027, 141.55933462012194, 11), (289.08874103963899, 157.03448992397966, 12), (288.43245015296361, 119.63146156949028, 13), (37.824540995854477, 240.1777494829737, 14), (184.2778226524797, 6.547573006173252, 15), (3.6620190262756296, 161.38005481725827, 16)]"
       ]
      },
      {
       "output_type": "stream",
       "stream": "stdout",
       "text": [
        "\n"
       ]
      },
      {
       "metadata": {},
       "output_type": "display_data",
       "text": [
        "<matplotlib.figure.Figure at 0x10a20e850>"
       ]
      },
      {
       "metadata": {},
       "output_type": "display_data",
       "text": [
        "<matplotlib.figure.Figure at 0x10a1abb50>"
       ]
      },
      {
       "metadata": {},
       "output_type": "display_data",
       "text": [
        "<matplotlib.figure.Figure at 0x10a1b3110>"
       ]
      },
      {
       "metadata": {},
       "output_type": "display_data",
       "text": [
        "<matplotlib.figure.Figure at 0x10c82eed0>"
       ]
      },
      {
       "metadata": {},
       "output_type": "display_data",
       "text": [
        "<matplotlib.figure.Figure at 0x10c1cd110>"
       ]
      },
      {
       "metadata": {},
       "output_type": "display_data",
       "text": [
        "<matplotlib.figure.Figure at 0x108d62fd0>"
       ]
      },
      {
       "metadata": {},
       "output_type": "display_data",
       "text": [
        "<matplotlib.figure.Figure at 0x10ca3bdd0>"
       ]
      },
      {
       "metadata": {},
       "output_type": "display_data",
       "text": [
        "<matplotlib.figure.Figure at 0x10ca45b90>"
       ]
      },
      {
       "metadata": {},
       "output_type": "display_data",
       "text": [
        "<matplotlib.figure.Figure at 0x10c3c09d0>"
       ]
      },
      {
       "metadata": {},
       "output_type": "display_data",
       "text": [
        "<matplotlib.figure.Figure at 0x10c1f7210>"
       ]
      },
      {
       "metadata": {},
       "output_type": "display_data",
       "text": [
        "<matplotlib.figure.Figure at 0x10a1f0410>"
       ]
      },
      {
       "metadata": {},
       "output_type": "display_data",
       "text": [
        "<matplotlib.figure.Figure at 0x101dd88d0>"
       ]
      },
      {
       "metadata": {},
       "output_type": "display_data",
       "text": [
        "<matplotlib.figure.Figure at 0x10c3b9110>"
       ]
      },
      {
       "metadata": {},
       "output_type": "display_data",
       "text": [
        "<matplotlib.figure.Figure at 0x10c3e5290>"
       ]
      },
      {
       "metadata": {},
       "output_type": "display_data",
       "text": [
        "<matplotlib.figure.Figure at 0x10c824750>"
       ]
      },
      {
       "metadata": {},
       "output_type": "display_data",
       "text": [
        "<matplotlib.figure.Figure at 0x10cd33dd0>"
       ]
      }
     ],
     "prompt_number": 30
    },
    {
     "cell_type": "heading",
     "level": 3,
     "metadata": {},
     "source": []
    }
   ],
   "metadata": {}
  }
 ]
}